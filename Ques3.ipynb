{
 "cells": [
  {
   "cell_type": "code",
   "execution_count": 2,
   "metadata": {},
   "outputs": [
    {
     "ename": "ValueError",
     "evalue": "list.remove(x): x not in list",
     "output_type": "error",
     "traceback": [
      "\u001b[1;31m---------------------------------------------------------------------------\u001b[0m",
      "\u001b[1;31mValueError\u001b[0m                                Traceback (most recent call last)",
      "Cell \u001b[1;32mIn[2], line 40\u001b[0m\n\u001b[0;32m     37\u001b[0m             \u001b[39mbreak\u001b[39;00m\n\u001b[0;32m     38\u001b[0m     \u001b[39mreturn\u001b[39;00m sup\n\u001b[1;32m---> 40\u001b[0m \u001b[39mprint\u001b[39m(scs(list_of_reads))\n",
      "Cell \u001b[1;32mIn[2], line 32\u001b[0m, in \u001b[0;36mscs\u001b[1;34m(ss)\u001b[0m\n\u001b[0;32m     30\u001b[0m \u001b[39mif\u001b[39;00m assembly(ssperm[\u001b[39m0\u001b[39m], ssperm[\u001b[39m1\u001b[39m]) \u001b[39m!=\u001b[39m \u001b[39m\"\u001b[39m\u001b[39m\"\u001b[39m:\n\u001b[0;32m     31\u001b[0m     sup \u001b[39m=\u001b[39m assembly(ssperm[\u001b[39m0\u001b[39m], ssperm[\u001b[39m1\u001b[39m])\n\u001b[1;32m---> 32\u001b[0m     assembled_list\u001b[39m.\u001b[39;49mremove(\u001b[39mstr\u001b[39;49m(ssperm[\u001b[39m0\u001b[39;49m]))\n\u001b[0;32m     33\u001b[0m     assembled_list\u001b[39m.\u001b[39mremove(\u001b[39mstr\u001b[39m(ssperm[\u001b[39m1\u001b[39m]))\n\u001b[0;32m     34\u001b[0m \u001b[39melif\u001b[39;00m assembly(ssperm[\u001b[39m0\u001b[39m], ssperm[\u001b[39m1\u001b[39m]) \u001b[39m==\u001b[39m \u001b[39m\"\u001b[39m\u001b[39m\"\u001b[39m:\n",
      "\u001b[1;31mValueError\u001b[0m: list.remove(x): x not in list"
     ]
    }
   ],
   "source": [
    "import logging \n",
    "from Bio import SeqIO\n",
    "import itertools\n",
    " \n",
    "list_of_reads = list(sequence.seq for sequence in SeqIO.parse(\"C:/Users/Admin/Documents/Study/KTest Training/Tài liệu/Technical_test_06June/Seq03.fasta\",\"fasta\"))\n",
    "\n",
    "def assembly(a, b):\n",
    "    assembled_seq = \"\"\n",
    "    if a in b:\n",
    "        assembled_seq = b\n",
    "    elif b in a:\n",
    "        assembled_seq = a\n",
    "    else:\n",
    "        min_len = min(len(a), len(b))\n",
    "        for i in range(3, min_len + 1):\n",
    "            if a[:i] == \"\".join(reversed(b[:-i-1:-1])):\n",
    "                assembled_seq = b + a[i:]\n",
    "                break\n",
    "        for i in range(3, min_len + 1):\n",
    "            if b[:i] == \"\".join(reversed(a[:-i-1:-1])):\n",
    "                assembled_seq = a + b[i:]\n",
    "                break\n",
    "    return assembled_seq\n",
    "\n",
    "def scs(ss):\n",
    "    assembled_list = ss\n",
    "    for ssperm in itertools.combinations(ss,2):\n",
    "        if len(assembled_list) > 1:\n",
    "            if assembly(ssperm[0], ssperm[1]) != \"\":\n",
    "                sup = assembly(ssperm[0], ssperm[1])\n",
    "                assembled_list.remove(str(ssperm[0]))\n",
    "                assembled_list.remove(str(ssperm[1]))\n",
    "            elif assembly(ssperm[0], ssperm[1]) == \"\":\n",
    "                assembled_list = ss\n",
    "        else:\n",
    "            break\n",
    "    return sup\n",
    "\n",
    "print(scs(list_of_reads))\n"
   ]
  },
  {
   "cell_type": "code",
   "execution_count": 5,
   "metadata": {},
   "outputs": [
    {
     "ename": "IndexError",
     "evalue": "tuple index out of range",
     "output_type": "error",
     "traceback": [
      "\u001b[1;31m---------------------------------------------------------------------------\u001b[0m",
      "\u001b[1;31mIndexError\u001b[0m                                Traceback (most recent call last)",
      "Cell \u001b[1;32mIn[5], line 32\u001b[0m\n\u001b[0;32m     29\u001b[0m             shortest_sup \u001b[39m=\u001b[39m sup\n\u001b[0;32m     30\u001b[0m     \u001b[39mreturn\u001b[39;00m shortest_sup\n\u001b[1;32m---> 32\u001b[0m \u001b[39mprint\u001b[39m(scs(list_of_reads))\n",
      "Cell \u001b[1;32mIn[5], line 26\u001b[0m, in \u001b[0;36mscs\u001b[1;34m(ss)\u001b[0m\n\u001b[0;32m     24\u001b[0m sup \u001b[39m=\u001b[39m ssperm[\u001b[39m0\u001b[39m]\n\u001b[0;32m     25\u001b[0m \u001b[39mfor\u001b[39;00m i \u001b[39min\u001b[39;00m \u001b[39mrange\u001b[39m(\u001b[39mlen\u001b[39m(ss)\u001b[39m-\u001b[39m\u001b[39m1\u001b[39m):\n\u001b[1;32m---> 26\u001b[0m     olen \u001b[39m=\u001b[39m overlap(ssperm[i], ssperm[i\u001b[39m+\u001b[39;49m\u001b[39m1\u001b[39;49m])\n\u001b[0;32m     27\u001b[0m     sup \u001b[39m+\u001b[39m\u001b[39m=\u001b[39m ssperm[i\u001b[39m+\u001b[39m\u001b[39m1\u001b[39m][olen:]\n\u001b[0;32m     28\u001b[0m \u001b[39mif\u001b[39;00m shortest_sup \u001b[39mis\u001b[39;00m \u001b[39mNone\u001b[39;00m \u001b[39mor\u001b[39;00m \u001b[39mlen\u001b[39m(sup) \u001b[39m<\u001b[39m \u001b[39mlen\u001b[39m(shortest_sup):\n",
      "\u001b[1;31mIndexError\u001b[0m: tuple index out of range"
     ]
    }
   ],
   "source": [
    "import logging\n",
    "from Bio import SeqIO\n",
    "import itertools\n",
    "\n",
    "list_of_reads = list(sequence.seq for sequence in SeqIO.parse(\"C:/Users/Admin/Documents/Study/KTest Training/Tài liệu/Technical_test_06June/Seq03.fasta\", \"fasta\"))\n",
    "\n",
    "def overlap(a, b):\n",
    "    if a in b:\n",
    "        return len(a)\n",
    "    elif b in a:\n",
    "        return len(a)\n",
    "    else:\n",
    "        min_len = min(len(a), len(b))\n",
    "        for i in range(3, min_len + 1):\n",
    "            if a[:i] == \"\".join(reversed(b[:-i-1:-1])):\n",
    "                return len(a[:i])\n",
    "        for i in range(3, min_len + 1):\n",
    "            if b[:i] == \"\".join(reversed(a[:-i-1:-1])):\n",
    "                return len(b[:i])\n",
    "\n",
    "def scs(ss):\n",
    "    shortest_sup = None\n",
    "    for ssperm in itertools.permutations(ss):\n",
    "        sup = ssperm[0]\n",
    "        for i in range(len(ss)-1):\n",
    "            if ssperm[i] in ssperm[i+1]:\n",
    "                sup += ssperm[i+1]\n",
    "            elif ssperm[i+1] in ssperm[i]:\n",
    "                sup += ssperm[i]\n",
    "            else:\n",
    "                min_len = min(len(a), len(b))\n",
    "                for k in range(3, min_len + 1):\n",
    "                    if ssperm[i][:k] == \"\".join(reversed(ssperm[i+1][:-k-1:-1])):\n",
    "                        olen = overlap(ssperm[i], ssperm[i+1])\n",
    "                        sup += ssperm[i+1][olen:]\n",
    "                    elif ssperm[i+1][:k] == \"\".join(reversed(ssperm[i][:-k-1:-1])):\n",
    "                        olen = overlap(ssperm[i], ssperm[i+1])\n",
    "                        sup += ssperm[i][olen:]\n",
    "                    else:\n",
    "                        break\n",
    "        if shortest_sup is None or len(sup) < len(shortest_sup):\n",
    "            shortest_sup = sup\n",
    "    return shortest_sup\n",
    "\n",
    "print(scs(list_of_reads))\n"
   ]
  },
  {
   "cell_type": "code",
   "execution_count": 6,
   "metadata": {},
   "outputs": [
    {
     "ename": "TypeError",
     "evalue": "unsupported operand type(s) for +: 'Seq' and 'int'",
     "output_type": "error",
     "traceback": [
      "\u001b[1;31m---------------------------------------------------------------------------\u001b[0m",
      "\u001b[1;31mTypeError\u001b[0m                                 Traceback (most recent call last)",
      "Cell \u001b[1;32mIn[6], line 31\u001b[0m\n\u001b[0;32m     28\u001b[0m             shortest_sup \u001b[39m=\u001b[39m sup\n\u001b[0;32m     29\u001b[0m     \u001b[39mreturn\u001b[39;00m shortest_sup\n\u001b[1;32m---> 31\u001b[0m \u001b[39mprint\u001b[39m(scs(list_of_reads))\n",
      "Cell \u001b[1;32mIn[6], line 18\u001b[0m, in \u001b[0;36mscs\u001b[1;34m(ss)\u001b[0m\n\u001b[0;32m     16\u001b[0m \u001b[39melse\u001b[39;00m:\n\u001b[0;32m     17\u001b[0m     min_len \u001b[39m=\u001b[39m \u001b[39mmin\u001b[39m(ssperm[i], ssperm[i])\n\u001b[1;32m---> 18\u001b[0m     \u001b[39mfor\u001b[39;00m k \u001b[39min\u001b[39;00m \u001b[39mrange\u001b[39m(\u001b[39m3\u001b[39m, min_len \u001b[39m+\u001b[39;49m \u001b[39m1\u001b[39;49m):\n\u001b[0;32m     19\u001b[0m         \u001b[39mif\u001b[39;00m ssperm[i][:k] \u001b[39m==\u001b[39m \u001b[39m\"\u001b[39m\u001b[39m\"\u001b[39m\u001b[39m.\u001b[39mjoin(\u001b[39mreversed\u001b[39m(ssperm[i\u001b[39m+\u001b[39m\u001b[39m1\u001b[39m][:\u001b[39m-\u001b[39mk\u001b[39m-\u001b[39m\u001b[39m1\u001b[39m:\u001b[39m-\u001b[39m\u001b[39m1\u001b[39m])):\n\u001b[0;32m     20\u001b[0m             olen \u001b[39m=\u001b[39m overlap(ssperm[i], ssperm[i\u001b[39m+\u001b[39m\u001b[39m1\u001b[39m])\n",
      "\u001b[1;31mTypeError\u001b[0m: unsupported operand type(s) for +: 'Seq' and 'int'"
     ]
    }
   ],
   "source": [
    "import logging\n",
    "from Bio import SeqIO\n",
    "import itertools\n",
    "\n",
    "list_of_reads = list(sequence.seq for sequence in SeqIO.parse(\"C:/Users/Admin/Documents/Study/KTest Training/Tài liệu/Technical_test_06June/Seq03.fasta\", \"fasta\"))\n",
    "\n",
    "def scs(ss):\n",
    "    shortest_sup = None\n",
    "    for ssperm in itertools.permutations(ss):\n",
    "        sup = ssperm[0]\n",
    "        for i in range(len(ss)-1):\n",
    "            if ssperm[i] in ssperm[i+1]:\n",
    "                sup += ssperm[i+1]\n",
    "            elif ssperm[i+1] in ssperm[i]:\n",
    "                sup += ssperm[i]\n",
    "            else:\n",
    "                min_len = min(len(ssperm[i]), len(ssperm[i+1]))\n",
    "                for k in range(3, min_len + 1):\n",
    "                    if ssperm[i][:k] == \"\".join(reversed(ssperm[i+1][:-k-1:-1])):\n",
    "                        olen = overlap(ssperm[i], ssperm[i+1])\n",
    "                        sup += ssperm[i+1][olen:]\n",
    "                    elif ssperm[i+1][:k] == \"\".join(reversed(ssperm[i][:-k-1:-1])):\n",
    "                        olen = overlap(ssperm[i], ssperm[i+1])\n",
    "                        sup += ssperm[i][olen:]\n",
    "                    else:\n",
    "                        break\n",
    "        if shortest_sup is None or len(sup) < len(shortest_sup):\n",
    "            shortest_sup = sup\n",
    "    return shortest_sup\n",
    "\n",
    "print(scs(list_of_reads))"
   ]
  },
  {
   "cell_type": "code",
   "execution_count": null,
   "metadata": {},
   "outputs": [],
   "source": [
    "import logging\n",
    "from Bio import SeqIO\n",
    "import itertools\n",
    "\n",
    "list_of_reads = list(sequence.seq for sequence in SeqIO.parse(\"C:/Users/Admin/Documents/Study/KTest Training/Tài liệu/Technical_test_06June/Seq03.fasta\", \"fasta\"))\n",
    "\n",
    "def overlap(a, b):\n",
    "    if a in b:\n",
    "        return len(a)\n",
    "    elif b in a:\n",
    "        return len(a)\n",
    "    else:\n",
    "        min_len = min(len(a), len(b))\n",
    "        for i in range(3, min_len + 1):\n",
    "            if a[:i] == \"\".join(reversed(b[:-i-1:-1])):\n",
    "                return len(a[:i])\n",
    "        for i in range(3, min_len + 1):\n",
    "            if b[:i] == \"\".join(reversed(a[:-i-1:-1])):\n",
    "                return len(b[:i])\n",
    "def scs(ss):\n",
    "    shortest_sup = None\n",
    "    for ssperm in itertools.permutations(ss):\n",
    "        sup = ssperm[0]\n",
    "        for i in range(len(ss)-1):\n",
    "            olen = overlap(ssperm[i], ssperm[i+1])\n",
    "            sup += ssperm[i+1][olen:]\n",
    "        if shortest_sup is None or len(sup) < len(shortest_sup):\n",
    "            shortest_sup = sup\n",
    "    return shortest_sup\n",
    "\n",
    "print(scs(list_of_reads))"
   ]
  },
  {
   "cell_type": "code",
   "execution_count": 7,
   "metadata": {},
   "outputs": [
    {
     "name": "stdout",
     "output_type": "stream",
     "text": [
      "GCTCAACATTGTGATCTTCTTGTTTTTAAAATGCTATAAAAACTGTTTAGCTAGAGTAAGATAGAGGCAAGT\n"
     ]
    }
   ],
   "source": [
    "import logging \n",
    "from Bio import SeqIO\n",
    "\n",
    "list_of_reads = list(str(sequence.seq) for sequence in SeqIO.parse(\"C:/Users/Admin/Documents/Study/KTest Training/Tài liệu/Technical_test_06June/Seq03.fasta\",\"fasta\"))\n",
    "\n",
    "def assembly(a, b):\n",
    "    assembled_seq = \"\"\n",
    "    if a in b:\n",
    "        assembled_seq = b\n",
    "    elif b in a:\n",
    "        assembled_seq = a\n",
    "    else:\n",
    "        min_len = min(len(a), len(b))\n",
    "        for i in range(3, min_len + 1):\n",
    "            if a[:i] == \"\".join(reversed(b[:-i-1:-1])):\n",
    "                assembled_seq = b + a[i:]\n",
    "                break\n",
    "        for i in range(3, min_len + 1):\n",
    "            if b[:i] == \"\".join(reversed(a[:-i-1:-1])):\n",
    "                assembled_seq = a + b[i:]\n",
    "                break\n",
    "    return assembled_seq\n",
    "\n",
    "\n",
    "allign_list = [list_of_reads[0]]\n",
    "for i in range(len(list_of_reads)):\n",
    "    target_dna = assembly(list_of_reads[i],allign_list[-1])\n",
    "    allign_list.append(target_dna)\n",
    "\n",
    "print(allign_list[-1])\n"
   ]
  }
 ],
 "metadata": {
  "kernelspec": {
   "display_name": "Python 3",
   "language": "python",
   "name": "python3"
  },
  "language_info": {
   "codemirror_mode": {
    "name": "ipython",
    "version": 3
   },
   "file_extension": ".py",
   "mimetype": "text/x-python",
   "name": "python",
   "nbconvert_exporter": "python",
   "pygments_lexer": "ipython3",
   "version": "3.11.2"
  },
  "orig_nbformat": 4
 },
 "nbformat": 4,
 "nbformat_minor": 2
}
