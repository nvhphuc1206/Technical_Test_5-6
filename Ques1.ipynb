{
 "cells": [
  {
   "cell_type": "code",
   "execution_count": 17,
   "metadata": {},
   "outputs": [
    {
     "name": "stdout",
     "output_type": "stream",
     "text": [
      "[16, 31]\n"
     ]
    }
   ],
   "source": [
    "def findstr(string):\n",
    "    \n",
    "        ket_qua = []\n",
    "        for i in range(10):\n",
    "            vi_tri = i +10\n",
    "            while True:\n",
    "                index = string.find(string[i:i+10],vi_tri)\n",
    "                if index == -1:\n",
    "                    break        \n",
    "                ket_qua.append(index + 1)\n",
    "                vi_tri = index + 1\n",
    "        return ket_qua\n",
    "\n",
    "\n",
    "x = \"AAABBBBBBBBBBCCBBBBBBBBBBDDDDDBBBBBBBBBB\"\n",
    "print(findstr(x))"
   ]
  },
  {
   "cell_type": "code",
   "execution_count": 66,
   "metadata": {},
   "outputs": [
    {
     "name": "stdout",
     "output_type": "stream",
     "text": [
      "TTACGCTGGCGGCGCGCCTAATACATGCAAGTCGAACGGAAGTTTAAGCAGCAATTAAACTTTAGTGGCGAACGGGTGAGTAACGCGTAAGCAATCTGCCCCTAAGACGAGGATAACAGTTGGAAACGACTGCTAAGACTGGATAGGAGACAAGAAGGAATCTTCTTGTTTTTAAAAGACCTAGTAATAGGTATGCTTAGGGAGGAGCTTGCGTCACATTAGTTAGTTGGTGGGGTAAAGGCCTACCAAGACTATGATGTGTAGCCGGGCATCTTCTTGTTTGTTGGAAACGACTGCTTTAAATGAGAGGTTGAACGGCCACATTGGGACTGAGACACGGCCCAAACTCCTACGGGAGGCAGCAGTAGGGAATTTTCGGCAATGGAGGAAACTCTGACCGAGCAACGCCGCGTGAACGATGAAGTATTTCGGTACGTAAAGTTCTTTTATTAGGGAAGAATAAATGATGGAAAAATCATTCTGACGGTACCTAATGAATAAGCCCCGGCTAACTATGTGCCAGCAGCCGCGGTAATACATAGGGGGCAAGCGTTATCCGGAATTATTGGTTGGAAAGCGTAAAGGGTGCGTTTGGAAAAGGCGGTTAAATAAGTTTATGGTCTAAGTGCAATGCTCAACATTGTGATCTTCTTGTTTTTAAAATGCTATAAAAACTGTTTAGCTAGAGTAAGATAGAGGCAAGTGGAATTCCATGTGTAGTGGTAAAATGCGTAAATATACACATTGGGACTGTGGAGGAACACCAGTAGCGAAGGCGGCTTGCTGGGTCTTTACTGACGCTGAGGCACGAAAGCGTGGGGAGCAAACAGGATTAGATACCACATTGGGACTGCCTGGTAGTCCACGCCGTAAACGATGAGTACTAAACGTTGGGTAAAACCAGTGTTGAAGTTAACACATTAAGTACTCCGCCTGAGTAGTACGTACGCAAGTATGAAACTTAAAGGAATTGATTATGGTCTACGGGACT\n",
      "[[282, 283, 284, 285, 286, 287, 288, 270, 645, 271, 646, 272, 647, 648, 649, 650, 651, 652, 653, 645, 646, 647, 839, 740, 840, 741, 841, 742, 842, 743, 843, 974, 840, 841, 842, 843], [282, 283, 284, 285, 286, 287, 270, 645, 271, 646, 647, 648, 649, 650, 651, 652, 645, 646, 839, 740, 840, 741, 841, 742, 842, 840, 841, 842], [282, 283, 284, 285, 286, 270, 645, 646, 647, 648, 649, 650, 651, 645, 839, 740, 840, 741, 841, 840, 841], [282, 283, 284, 285, 645, 646, 647, 648, 649, 650, 839, 740, 840, 840], [282, 283, 284, 645, 646, 647, 648, 649, 839], [282, 283, 645, 646, 647, 648], [282, 645, 646, 647], [645, 646], [645], [], []]\n"
     ]
    }
   ],
   "source": [
    "import logging\n",
    "from Bio import SeqIO\n",
    "\n",
    "dna = SeqIO.read(\"C:/Users/Admin/Documents/Study/KTest Training/Tài liệu/Technical_test_06June/Seq01.fasta\",\"fasta\").seq\n",
    "print(dna)\n",
    "\n",
    "def findstr(string,x,y):\n",
    "    list = []\n",
    "    for so_nu in range(x,y+1):\n",
    "        ket_qua = []\n",
    "        for i in range(len(string)):\n",
    "            vi_tri = i + so_nu\n",
    "            while True:\n",
    "                index = string.find(string[i:i+so_nu],vi_tri)\n",
    "                if index == -1:\n",
    "                    break        \n",
    "                ket_qua.append(index)\n",
    "                vi_tri = index + 1\n",
    "        list.append(ket_qua)\n",
    "    return list\n",
    "\n",
    "\n",
    "print(findstr(dna,10,20))\n"
   ]
  },
  {
   "cell_type": "code",
   "execution_count": 68,
   "metadata": {},
   "outputs": [
    {
     "name": "stdout",
     "output_type": "stream",
     "text": [
      "[[15, 30], [], [], [], [], [], [], [], [], [], []]\n"
     ]
    }
   ],
   "source": [
    "def findstr(string,x,y):\n",
    "    list = []\n",
    "    for so_nu in range(x,y+1):\n",
    "        ket_qua = []\n",
    "        for i in range(len(string)):\n",
    "            vi_tri = i + so_nu\n",
    "            while True:\n",
    "                index = string.find(string[i:i+so_nu],vi_tri)\n",
    "                if index == -1:\n",
    "                    break        \n",
    "                if index not in ket_qua:\n",
    "                    ket_qua.append(index)\n",
    "                vi_tri = index + 1\n",
    "        list.append(ket_qua)\n",
    "    return list\n",
    "    \n",
    "    \n",
    "x = \"AAABBBBBBBBBBCCBBBBBBBBBBDDDDDBBBBBBBBBB\"\n",
    "print(findstr(x,10,20))"
   ]
  },
  {
   "cell_type": "code",
   "execution_count": 89,
   "metadata": {},
   "outputs": [
    {
     "name": "stdout",
     "output_type": "stream",
     "text": [
      "[[[], [], [], [25, 40], [], [], [], [], [], [], [], [], [], [], [], [50], [], [], [], [], [], [], [], [], [], [40], [], [], [], [], [], [], [], [], [], [], [], [], [], [], [], [], [], [], [], [], [], [], [], [], [], [], [], [], [], [], [], [], [], []], [[], [], [], [], [], [], [], [], [], [], [], [], [], [], [], [], [], [], [], [], [], [], [], [], [], [], [], [], [], [], [], [], [], [], [], [], [], [], [], [], [], [], [], [], [], [], [], [], [], [], [], [], [], [], [], [], [], [], [], []], [[], [], [], [], [], [], [], [], [], [], [], [], [], [], [], [], [], [], [], [], [], [], [], [], [], [], [], [], [], [], [], [], [], [], [], [], [], [], [], [], [], [], [], [], [], [], [], [], [], [], [], [], [], [], [], [], [], [], [], []], [[], [], [], [], [], [], [], [], [], [], [], [], [], [], [], [], [], [], [], [], [], [], [], [], [], [], [], [], [], [], [], [], [], [], [], [], [], [], [], [], [], [], [], [], [], [], [], [], [], [], [], [], [], [], [], [], [], [], [], []], [[], [], [], [], [], [], [], [], [], [], [], [], [], [], [], [], [], [], [], [], [], [], [], [], [], [], [], [], [], [], [], [], [], [], [], [], [], [], [], [], [], [], [], [], [], [], [], [], [], [], [], [], [], [], [], [], [], [], [], []], [[], [], [], [], [], [], [], [], [], [], [], [], [], [], [], [], [], [], [], [], [], [], [], [], [], [], [], [], [], [], [], [], [], [], [], [], [], [], [], [], [], [], [], [], [], [], [], [], [], [], [], [], [], [], [], [], [], [], [], []], [[], [], [], [], [], [], [], [], [], [], [], [], [], [], [], [], [], [], [], [], [], [], [], [], [], [], [], [], [], [], [], [], [], [], [], [], [], [], [], [], [], [], [], [], [], [], [], [], [], [], [], [], [], [], [], [], [], [], [], []], [[], [], [], [], [], [], [], [], [], [], [], [], [], [], [], [], [], [], [], [], [], [], [], [], [], [], [], [], [], [], [], [], [], [], [], [], [], [], [], [], [], [], [], [], [], [], [], [], [], [], [], [], [], [], [], [], [], [], [], []], [[], [], [], [], [], [], [], [], [], [], [], [], [], [], [], [], [], [], [], [], [], [], [], [], [], [], [], [], [], [], [], [], [], [], [], [], [], [], [], [], [], [], [], [], [], [], [], [], [], [], [], [], [], [], [], [], [], [], [], []], [[], [], [], [], [], [], [], [], [], [], [], [], [], [], [], [], [], [], [], [], [], [], [], [], [], [], [], [], [], [], [], [], [], [], [], [], [], [], [], [], [], [], [], [], [], [], [], [], [], [], [], [], [], [], [], [], [], [], [], []], [[], [], [], [], [], [], [], [], [], [], [], [], [], [], [], [], [], [], [], [], [], [], [], [], [], [], [], [], [], [], [], [], [], [], [], [], [], [], [], [], [], [], [], [], [], [], [], [], [], [], [], [], [], [], [], [], [], [], [], []]]\n"
     ]
    }
   ],
   "source": [
    "def findstr(string,x,y):\n",
    "    list = []\n",
    "    for so_nu in range(x,y+1):\n",
    "        ket_qua = []\n",
    "        for i in range(len(string)):\n",
    "            list_at_each_pos = []\n",
    "            vi_tri = i + so_nu\n",
    "            while True:\n",
    "                index = string.find(string[i:i+so_nu],vi_tri)\n",
    "                if index == -1 or index in i for i in list_at_each_pos:\n",
    "                    break        \n",
    "                vi_tri = index + 1\n",
    "                list_at_each_pos.append(index)\n",
    "            ket_qua.append(list_at_each_pos)\n",
    "        list.append(ket_qua)\n",
    "    return list\n",
    "    \n",
    "    \n",
    "x = \"AAABBBBBBBBBBCCEEEEEEEEEEBBBBBBBBBBDDDDDBBBBBBBBBBEEEEEEEEEE\"\n",
    "print(findstr(x,10,20))"
   ]
  },
  {
   "cell_type": "code",
   "execution_count": null,
   "metadata": {},
   "outputs": [],
   "source": [
    "def find_repeated_sequences(sequence, length):\n",
    "    repeated_sequences = []\n",
    "    repeated_counts = {}\n",
    "    n = len(sequence)\n",
    "\n",
    "    for i in range(n - length + 1):\n",
    "        subsequence = sequence[i:i+length]\n",
    "        if subsequence in repeated_counts:\n",
    "            repeated_counts[subsequence] += 1\n",
    "        else:\n",
    "            repeated_counts[subsequence] = 1\n",
    "\n",
    "    for subsequence, count in repeated_counts.items():\n",
    "        if count > 1:\n",
    "            repeated_sequences.append((subsequence, count))\n",
    "\n",
    "    return repeated_sequences\n",
    "\n",
    "sequence = \"AAABBBBBBBBBBCCBBBBBBBBBBDDDDDBBBBBBBBBB\"\n",
    "length = 10\n",
    "\n",
    "repeated_sequences = find_repeated_sequences(sequence, length)\n",
    "for subsequence, count in repeated_sequences:\n",
    "    print(f\"{subsequence}: {count}\")\n"
   ]
  },
  {
   "cell_type": "code",
   "execution_count": 103,
   "metadata": {},
   "outputs": [
    {
     "name": "stdout",
     "output_type": "stream",
     "text": [
      "[[(Seq('GTTGGAAACG'), 2), (Seq('TTGGAAACGA'), 2), (Seq('TGGAAACGAC'), 2), (Seq('GGAAACGACT'), 2), (Seq('GAAACGACTG'), 2), (Seq('AAACGACTGC'), 2), (Seq('AACGACTGCT'), 2), (Seq('ATCTTCTTGT'), 3), (Seq('TCTTCTTGTT'), 3), (Seq('CTTCTTGTTT'), 3), (Seq('TTCTTGTTTT'), 2), (Seq('TCTTGTTTTT'), 2), (Seq('CTTGTTTTTA'), 2), (Seq('TTGTTTTTAA'), 2), (Seq('TGTTTTTAAA'), 2), (Seq('GTTTTTAAAA'), 2), (Seq('CCACATTGGG'), 2), (Seq('CACATTGGGA'), 3), (Seq('ACATTGGGAC'), 3), (Seq('CATTGGGACT'), 3), (Seq('ATTGGGACTG'), 3), (Seq('TTATGGTCTA'), 2)], [(Seq('GTTGGAAACGA'), 2), (Seq('TTGGAAACGAC'), 2), (Seq('TGGAAACGACT'), 2), (Seq('GGAAACGACTG'), 2), (Seq('GAAACGACTGC'), 2), (Seq('AAACGACTGCT'), 2), (Seq('ATCTTCTTGTT'), 3), (Seq('TCTTCTTGTTT'), 3), (Seq('CTTCTTGTTTT'), 2), (Seq('TTCTTGTTTTT'), 2), (Seq('TCTTGTTTTTA'), 2), (Seq('CTTGTTTTTAA'), 2), (Seq('TTGTTTTTAAA'), 2), (Seq('TGTTTTTAAAA'), 2), (Seq('CCACATTGGGA'), 2), (Seq('CACATTGGGAC'), 3), (Seq('ACATTGGGACT'), 3), (Seq('CATTGGGACTG'), 3)], [(Seq('GTTGGAAACGAC'), 2), (Seq('TTGGAAACGACT'), 2), (Seq('TGGAAACGACTG'), 2), (Seq('GGAAACGACTGC'), 2), (Seq('GAAACGACTGCT'), 2), (Seq('ATCTTCTTGTTT'), 3), (Seq('TCTTCTTGTTTT'), 2), (Seq('CTTCTTGTTTTT'), 2), (Seq('TTCTTGTTTTTA'), 2), (Seq('TCTTGTTTTTAA'), 2), (Seq('CTTGTTTTTAAA'), 2), (Seq('TTGTTTTTAAAA'), 2), (Seq('CCACATTGGGAC'), 2), (Seq('CACATTGGGACT'), 3), (Seq('ACATTGGGACTG'), 3)], [(Seq('GTTGGAAACGACT'), 2), (Seq('TTGGAAACGACTG'), 2), (Seq('TGGAAACGACTGC'), 2), (Seq('GGAAACGACTGCT'), 2), (Seq('ATCTTCTTGTTTT'), 2), (Seq('TCTTCTTGTTTTT'), 2), (Seq('CTTCTTGTTTTTA'), 2), (Seq('TTCTTGTTTTTAA'), 2), (Seq('TCTTGTTTTTAAA'), 2), (Seq('CTTGTTTTTAAAA'), 2), (Seq('CCACATTGGGACT'), 2), (Seq('CACATTGGGACTG'), 3)], [(Seq('GTTGGAAACGACTG'), 2), (Seq('TTGGAAACGACTGC'), 2), (Seq('TGGAAACGACTGCT'), 2), (Seq('ATCTTCTTGTTTTT'), 2), (Seq('TCTTCTTGTTTTTA'), 2), (Seq('CTTCTTGTTTTTAA'), 2), (Seq('TTCTTGTTTTTAAA'), 2), (Seq('TCTTGTTTTTAAAA'), 2), (Seq('CCACATTGGGACTG'), 2)], [(Seq('GTTGGAAACGACTGC'), 2), (Seq('TTGGAAACGACTGCT'), 2), (Seq('ATCTTCTTGTTTTTA'), 2), (Seq('TCTTCTTGTTTTTAA'), 2), (Seq('CTTCTTGTTTTTAAA'), 2), (Seq('TTCTTGTTTTTAAAA'), 2)], [(Seq('GTTGGAAACGACTGCT'), 2), (Seq('ATCTTCTTGTTTTTAA'), 2), (Seq('TCTTCTTGTTTTTAAA'), 2), (Seq('CTTCTTGTTTTTAAAA'), 2)], [(Seq('ATCTTCTTGTTTTTAAA'), 2), (Seq('TCTTCTTGTTTTTAAAA'), 2)], [(Seq('ATCTTCTTGTTTTTAAAA'), 2)]]\n"
     ]
    },
    {
     "ename": "ValueError",
     "evalue": "too many values to unpack (expected 2)",
     "output_type": "error",
     "traceback": [
      "\u001b[1;31m---------------------------------------------------------------------------\u001b[0m",
      "\u001b[1;31mValueError\u001b[0m                                Traceback (most recent call last)",
      "Cell \u001b[1;32mIn[103], line 34\u001b[0m\n\u001b[0;32m     32\u001b[0m \u001b[39mfor\u001b[39;00m i \u001b[39min\u001b[39;00m \u001b[39mlist\u001b[39m:\n\u001b[0;32m     33\u001b[0m     \u001b[39mfor\u001b[39;00m y \u001b[39min\u001b[39;00m i:\n\u001b[1;32m---> 34\u001b[0m         \u001b[39mfor\u001b[39;00m subsequence, count \u001b[39min\u001b[39;00m y:\n\u001b[0;32m     35\u001b[0m             \u001b[39mprint\u001b[39m(subsequence,count)\n",
      "\u001b[1;31mValueError\u001b[0m: too many values to unpack (expected 2)"
     ]
    }
   ],
   "source": [
    "import logging\n",
    "from Bio import SeqIO\n",
    "\n",
    "dna = SeqIO.read(\"C:/Users/Admin/Documents/Study/KTest Training/Tài liệu/Technical_test_06June/Seq01.fasta\",\"fasta\").seq\n",
    "\n",
    "def find_repeated_sequences(sequence, length):\n",
    "    repeated_sequences = []\n",
    "    repeated_counts = {}\n",
    "    n = len(sequence)\n",
    "\n",
    "    for i in range(n - length + 1):\n",
    "        subsequence = sequence[i:i+length]\n",
    "        if subsequence in repeated_counts:\n",
    "            repeated_counts[subsequence] += 1\n",
    "        else:\n",
    "            repeated_counts[subsequence] = 1\n",
    "\n",
    "    for subsequence, count in repeated_counts.items():\n",
    "        if count > 1:\n",
    "            repeated_sequences.append((subsequence, count))\n",
    "\n",
    "    return repeated_sequences\n",
    "\n",
    "list = []\n",
    "for i in range(10,21):\n",
    "    repeated_sequences = find_repeated_sequences(dna,i)\n",
    "    if repeated_sequences != []:\n",
    "        list.append(repeated_sequences)\n",
    "print(list)\n",
    "\n",
    "\n",
    "for i in list:\n",
    "    for y in i:\n",
    "        for subsequence, count in y:\n",
    "            print(subsequence,count)\n"
   ]
  },
  {
   "cell_type": "code",
   "execution_count": 105,
   "metadata": {},
   "outputs": [
    {
     "name": "stdout",
     "output_type": "stream",
     "text": [
      "GTTGGAAACG 2\n",
      "TTGGAAACGA 2\n",
      "TGGAAACGAC 2\n",
      "GGAAACGACT 2\n",
      "GAAACGACTG 2\n",
      "AAACGACTGC 2\n",
      "AACGACTGCT 2\n",
      "ATCTTCTTGT 3\n",
      "TCTTCTTGTT 3\n",
      "CTTCTTGTTT 3\n",
      "TTCTTGTTTT 2\n",
      "TCTTGTTTTT 2\n",
      "CTTGTTTTTA 2\n",
      "TTGTTTTTAA 2\n",
      "TGTTTTTAAA 2\n",
      "GTTTTTAAAA 2\n",
      "CCACATTGGG 2\n",
      "CACATTGGGA 3\n",
      "ACATTGGGAC 3\n",
      "CATTGGGACT 3\n",
      "ATTGGGACTG 3\n",
      "TTATGGTCTA 2\n",
      "GTTGGAAACGA 2\n",
      "TTGGAAACGAC 2\n",
      "TGGAAACGACT 2\n",
      "GGAAACGACTG 2\n",
      "GAAACGACTGC 2\n",
      "AAACGACTGCT 2\n",
      "ATCTTCTTGTT 3\n",
      "TCTTCTTGTTT 3\n",
      "CTTCTTGTTTT 2\n",
      "TTCTTGTTTTT 2\n",
      "TCTTGTTTTTA 2\n",
      "CTTGTTTTTAA 2\n",
      "TTGTTTTTAAA 2\n",
      "TGTTTTTAAAA 2\n",
      "CCACATTGGGA 2\n",
      "CACATTGGGAC 3\n",
      "ACATTGGGACT 3\n",
      "CATTGGGACTG 3\n",
      "GTTGGAAACGAC 2\n",
      "TTGGAAACGACT 2\n",
      "TGGAAACGACTG 2\n",
      "GGAAACGACTGC 2\n",
      "GAAACGACTGCT 2\n",
      "ATCTTCTTGTTT 3\n",
      "TCTTCTTGTTTT 2\n",
      "CTTCTTGTTTTT 2\n",
      "TTCTTGTTTTTA 2\n",
      "TCTTGTTTTTAA 2\n",
      "CTTGTTTTTAAA 2\n",
      "TTGTTTTTAAAA 2\n",
      "CCACATTGGGAC 2\n",
      "CACATTGGGACT 3\n",
      "ACATTGGGACTG 3\n",
      "GTTGGAAACGACT 2\n",
      "TTGGAAACGACTG 2\n",
      "TGGAAACGACTGC 2\n",
      "GGAAACGACTGCT 2\n",
      "ATCTTCTTGTTTT 2\n",
      "TCTTCTTGTTTTT 2\n",
      "CTTCTTGTTTTTA 2\n",
      "TTCTTGTTTTTAA 2\n",
      "TCTTGTTTTTAAA 2\n",
      "CTTGTTTTTAAAA 2\n",
      "CCACATTGGGACT 2\n",
      "CACATTGGGACTG 3\n",
      "GTTGGAAACGACTG 2\n",
      "TTGGAAACGACTGC 2\n",
      "TGGAAACGACTGCT 2\n",
      "ATCTTCTTGTTTTT 2\n",
      "TCTTCTTGTTTTTA 2\n",
      "CTTCTTGTTTTTAA 2\n",
      "TTCTTGTTTTTAAA 2\n",
      "TCTTGTTTTTAAAA 2\n",
      "CCACATTGGGACTG 2\n",
      "GTTGGAAACGACTGC 2\n",
      "TTGGAAACGACTGCT 2\n",
      "ATCTTCTTGTTTTTA 2\n",
      "TCTTCTTGTTTTTAA 2\n",
      "CTTCTTGTTTTTAAA 2\n",
      "TTCTTGTTTTTAAAA 2\n",
      "GTTGGAAACGACTGCT 2\n",
      "ATCTTCTTGTTTTTAA 2\n",
      "TCTTCTTGTTTTTAAA 2\n",
      "CTTCTTGTTTTTAAAA 2\n",
      "ATCTTCTTGTTTTTAAA 2\n",
      "TCTTCTTGTTTTTAAAA 2\n",
      "ATCTTCTTGTTTTTAAAA 2\n"
     ]
    }
   ],
   "source": [
    "import logging\n",
    "from Bio import SeqIO\n",
    "\n",
    "dna = SeqIO.read(\"C:/Users/Admin/Documents/Study/KTest Training/Tài liệu/Technical_test_06June/Seq01.fasta\",\"fasta\").seq\n",
    "\n",
    "def find_repreat_subseq(dna, length):   \n",
    "    result_list = []\n",
    "    n = len(dna)\n",
    "    for k in range(length,n-length):\n",
    "        repreat_subseq = []\n",
    "        repeated_counts = {}\n",
    "        for i in range(n - k + 1):\n",
    "            subseq = dna[i:i+k]\n",
    "            if subseq in repeated_counts:\n",
    "                repeated_counts[subseq] += 1\n",
    "            else:\n",
    "                repeated_counts[subseq] = 1\n",
    "\n",
    "        for subseq, count in repeated_counts.items():\n",
    "            if count > 1:\n",
    "                repreat_subseq.append([subseq, count])\n",
    "        if repreat_subseq != []:\n",
    "            result_list.append(repreat_subseq)\n",
    "    return result_list\n",
    "\n",
    "\n",
    "repeat_subsequences = find_repreat_subseq(dna,10)\n",
    "for i in repeat_subsequences:\n",
    "    for subseq, count in i:\n",
    "        print(subseq, count)\n"
   ]
  }
 ],
 "metadata": {
  "kernelspec": {
   "display_name": "Python 3",
   "language": "python",
   "name": "python3"
  },
  "language_info": {
   "codemirror_mode": {
    "name": "ipython",
    "version": 3
   },
   "file_extension": ".py",
   "mimetype": "text/x-python",
   "name": "python",
   "nbconvert_exporter": "python",
   "pygments_lexer": "ipython3",
   "version": "3.11.2"
  },
  "orig_nbformat": 4
 },
 "nbformat": 4,
 "nbformat_minor": 2
}
