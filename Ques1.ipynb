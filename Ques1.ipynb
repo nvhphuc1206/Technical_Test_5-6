{
 "cells": [
  {
   "cell_type": "code",
   "execution_count": 17,
   "metadata": {},
   "outputs": [
    {
     "name": "stdout",
     "output_type": "stream",
     "text": [
      "[16, 31]\n"
     ]
    }
   ],
   "source": [
    "def findstr(string):\n",
    "    \n",
    "        ket_qua = []\n",
    "        for i in range(10):\n",
    "            vi_tri = i +10\n",
    "            while True:\n",
    "                index = string.find(string[i:i+10],vi_tri)\n",
    "                if index == -1:\n",
    "                    break        \n",
    "                ket_qua.append(index + 1)\n",
    "                vi_tri = index + 1\n",
    "        return ket_qua\n",
    "\n",
    "\n",
    "x = \"AAABBBBBBBBBBCCBBBBBBBBBBDDDDDBBBBBBBBBB\"\n",
    "print(findstr(x))"
   ]
  },
  {
   "cell_type": "code",
   "execution_count": 66,
   "metadata": {},
   "outputs": [
    {
     "name": "stdout",
     "output_type": "stream",
     "text": [
      "TTACGCTGGCGGCGCGCCTAATACATGCAAGTCGAACGGAAGTTTAAGCAGCAATTAAACTTTAGTGGCGAACGGGTGAGTAACGCGTAAGCAATCTGCCCCTAAGACGAGGATAACAGTTGGAAACGACTGCTAAGACTGGATAGGAGACAAGAAGGAATCTTCTTGTTTTTAAAAGACCTAGTAATAGGTATGCTTAGGGAGGAGCTTGCGTCACATTAGTTAGTTGGTGGGGTAAAGGCCTACCAAGACTATGATGTGTAGCCGGGCATCTTCTTGTTTGTTGGAAACGACTGCTTTAAATGAGAGGTTGAACGGCCACATTGGGACTGAGACACGGCCCAAACTCCTACGGGAGGCAGCAGTAGGGAATTTTCGGCAATGGAGGAAACTCTGACCGAGCAACGCCGCGTGAACGATGAAGTATTTCGGTACGTAAAGTTCTTTTATTAGGGAAGAATAAATGATGGAAAAATCATTCTGACGGTACCTAATGAATAAGCCCCGGCTAACTATGTGCCAGCAGCCGCGGTAATACATAGGGGGCAAGCGTTATCCGGAATTATTGGTTGGAAAGCGTAAAGGGTGCGTTTGGAAAAGGCGGTTAAATAAGTTTATGGTCTAAGTGCAATGCTCAACATTGTGATCTTCTTGTTTTTAAAATGCTATAAAAACTGTTTAGCTAGAGTAAGATAGAGGCAAGTGGAATTCCATGTGTAGTGGTAAAATGCGTAAATATACACATTGGGACTGTGGAGGAACACCAGTAGCGAAGGCGGCTTGCTGGGTCTTTACTGACGCTGAGGCACGAAAGCGTGGGGAGCAAACAGGATTAGATACCACATTGGGACTGCCTGGTAGTCCACGCCGTAAACGATGAGTACTAAACGTTGGGTAAAACCAGTGTTGAAGTTAACACATTAAGTACTCCGCCTGAGTAGTACGTACGCAAGTATGAAACTTAAAGGAATTGATTATGGTCTACGGGACT\n",
      "[[282, 283, 284, 285, 286, 287, 288, 270, 645, 271, 646, 272, 647, 648, 649, 650, 651, 652, 653, 645, 646, 647, 839, 740, 840, 741, 841, 742, 842, 743, 843, 974, 840, 841, 842, 843], [282, 283, 284, 285, 286, 287, 270, 645, 271, 646, 647, 648, 649, 650, 651, 652, 645, 646, 839, 740, 840, 741, 841, 742, 842, 840, 841, 842], [282, 283, 284, 285, 286, 270, 645, 646, 647, 648, 649, 650, 651, 645, 839, 740, 840, 741, 841, 840, 841], [282, 283, 284, 285, 645, 646, 647, 648, 649, 650, 839, 740, 840, 840], [282, 283, 284, 645, 646, 647, 648, 649, 839], [282, 283, 645, 646, 647, 648], [282, 645, 646, 647], [645, 646], [645], [], []]\n"
     ]
    }
   ],
   "source": [
    "import logging\n",
    "from Bio import SeqIO\n",
    "\n",
    "dna = SeqIO.read(\"C:/Users/Admin/Documents/Study/KTest Training/Tài liệu/Technical_test_06June/Seq01.fasta\",\"fasta\").seq\n",
    "print(dna)\n",
    "\n",
    "def findstr(string,x,y):\n",
    "    list = []\n",
    "    for so_nu in range(x,y+1):\n",
    "        ket_qua = []\n",
    "        for i in range(len(string)):\n",
    "            vi_tri = i + so_nu\n",
    "            while True:\n",
    "                index = string.find(string[i:i+so_nu],vi_tri)\n",
    "                if index == -1:\n",
    "                    break        \n",
    "                ket_qua.append(index)\n",
    "                vi_tri = index + 1\n",
    "        list.append(ket_qua)\n",
    "    return list\n",
    "\n",
    "\n",
    "print(findstr(dna,10,20))\n"
   ]
  },
  {
   "cell_type": "code",
   "execution_count": 68,
   "metadata": {},
   "outputs": [
    {
     "name": "stdout",
     "output_type": "stream",
     "text": [
      "[[15, 30], [], [], [], [], [], [], [], [], [], []]\n"
     ]
    }
   ],
   "source": [
    "def findstr(string,x,y):\n",
    "    list = []\n",
    "    for so_nu in range(x,y+1):\n",
    "        ket_qua = []\n",
    "        for i in range(len(string)):\n",
    "            vi_tri = i + so_nu\n",
    "            while True:\n",
    "                index = string.find(string[i:i+so_nu],vi_tri)\n",
    "                if index == -1:\n",
    "                    break        \n",
    "                if index not in ket_qua:\n",
    "                    ket_qua.append(index)\n",
    "                vi_tri = index + 1\n",
    "        list.append(ket_qua)\n",
    "    return list\n",
    "    \n",
    "    \n",
    "x = \"AAABBBBBBBBBBCCBBBBBBBBBBDDDDDBBBBBBBBBB\"\n",
    "print(findstr(x,10,20))"
   ]
  },
  {
   "cell_type": "code",
   "execution_count": 89,
   "metadata": {},
   "outputs": [
    {
     "name": "stdout",
     "output_type": "stream",
     "text": [
      "[[[], [], [], [25, 40], [], [], [], [], [], [], [], [], [], [], [], [50], [], [], [], [], [], [], [], [], [], [40], [], [], [], [], [], [], [], [], [], [], [], [], [], [], [], [], [], [], [], [], [], [], [], [], [], [], [], [], [], [], [], [], [], []], [[], [], [], [], [], [], [], [], [], [], [], [], [], [], [], [], [], [], [], [], [], [], [], [], [], [], [], [], [], [], [], [], [], [], [], [], [], [], [], [], [], [], [], [], [], [], [], [], [], [], [], [], [], [], [], [], [], [], [], []], [[], [], [], [], [], [], [], [], [], [], [], [], [], [], [], [], [], [], [], [], [], [], [], [], [], [], [], [], [], [], [], [], [], [], [], [], [], [], [], [], [], [], [], [], [], [], [], [], [], [], [], [], [], [], [], [], [], [], [], []], [[], [], [], [], [], [], [], [], [], [], [], [], [], [], [], [], [], [], [], [], [], [], [], [], [], [], [], [], [], [], [], [], [], [], [], [], [], [], [], [], [], [], [], [], [], [], [], [], [], [], [], [], [], [], [], [], [], [], [], []], [[], [], [], [], [], [], [], [], [], [], [], [], [], [], [], [], [], [], [], [], [], [], [], [], [], [], [], [], [], [], [], [], [], [], [], [], [], [], [], [], [], [], [], [], [], [], [], [], [], [], [], [], [], [], [], [], [], [], [], []], [[], [], [], [], [], [], [], [], [], [], [], [], [], [], [], [], [], [], [], [], [], [], [], [], [], [], [], [], [], [], [], [], [], [], [], [], [], [], [], [], [], [], [], [], [], [], [], [], [], [], [], [], [], [], [], [], [], [], [], []], [[], [], [], [], [], [], [], [], [], [], [], [], [], [], [], [], [], [], [], [], [], [], [], [], [], [], [], [], [], [], [], [], [], [], [], [], [], [], [], [], [], [], [], [], [], [], [], [], [], [], [], [], [], [], [], [], [], [], [], []], [[], [], [], [], [], [], [], [], [], [], [], [], [], [], [], [], [], [], [], [], [], [], [], [], [], [], [], [], [], [], [], [], [], [], [], [], [], [], [], [], [], [], [], [], [], [], [], [], [], [], [], [], [], [], [], [], [], [], [], []], [[], [], [], [], [], [], [], [], [], [], [], [], [], [], [], [], [], [], [], [], [], [], [], [], [], [], [], [], [], [], [], [], [], [], [], [], [], [], [], [], [], [], [], [], [], [], [], [], [], [], [], [], [], [], [], [], [], [], [], []], [[], [], [], [], [], [], [], [], [], [], [], [], [], [], [], [], [], [], [], [], [], [], [], [], [], [], [], [], [], [], [], [], [], [], [], [], [], [], [], [], [], [], [], [], [], [], [], [], [], [], [], [], [], [], [], [], [], [], [], []], [[], [], [], [], [], [], [], [], [], [], [], [], [], [], [], [], [], [], [], [], [], [], [], [], [], [], [], [], [], [], [], [], [], [], [], [], [], [], [], [], [], [], [], [], [], [], [], [], [], [], [], [], [], [], [], [], [], [], [], []]]\n"
     ]
    }
   ],
   "source": [
    "def findstr(string,x,y):\n",
    "    list = []\n",
    "    for so_nu in range(x,y+1):\n",
    "        ket_qua = []\n",
    "        for i in range(len(string)):\n",
    "            list_at_each_pos = []\n",
    "            vi_tri = i + so_nu\n",
    "            while True:\n",
    "                index = string.find(string[i:i+so_nu],vi_tri)\n",
    "                if index == -1:\n",
    "                    break        \n",
    "                vi_tri = index + 1\n",
    "                list_at_each_pos.append(index)\n",
    "            ket_qua.append(list_at_each_pos)\n",
    "        list.append(ket_qua)\n",
    "    return list\n",
    "    \n",
    "    \n",
    "x = \"AAABBBBBBBBBBCCEEEEEEEEEEBBBBBBBBBBDDDDDBBBBBBBBBBEEEEEEEEEE\"\n",
    "print(findstr(x,10,20))"
   ]
  }
 ],
 "metadata": {
  "kernelspec": {
   "display_name": "Python 3",
   "language": "python",
   "name": "python3"
  },
  "language_info": {
   "codemirror_mode": {
    "name": "ipython",
    "version": 3
   },
   "file_extension": ".py",
   "mimetype": "text/x-python",
   "name": "python",
   "nbconvert_exporter": "python",
   "pygments_lexer": "ipython3",
   "version": "3.11.2"
  },
  "orig_nbformat": 4
 },
 "nbformat": 4,
 "nbformat_minor": 2
}
