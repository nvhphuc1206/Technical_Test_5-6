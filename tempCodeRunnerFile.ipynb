import logging
from Bio import SeqIO

dna = SeqIO.read("C:/Users/Admin/Documents/Study/KTest Training/Tài liệu/Technical_test_06June/Seq01.fasta","fasta").seq

def find_repreat_subseq(dna, length):   
    result_list = []
    n = len(dna)
    for k in range(length,n-length):
        repreat_subseq = []
        repeated_counts = {}
        for i in range(n - k + 1):
            subseq = dna[i:i+k]
            if subseq in repeated_counts:
                repeated_counts[subseq] += 1
            else:
                repeated_counts[subseq] = 1

        for subseq, count in repeated_counts.items():
            if count > 1:
                repreat_subseq.append([subseq, count])
        if repreat_subseq != []:
            result_list.append(repreat_subseq)
    return result_list


repeat_subsequences = find_repreat_subseq(dna,10)
for i in repeat_subsequences:
    for subseq, count in i:
        print(subseq, count)